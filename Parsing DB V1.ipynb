{
 "cells": [
  {
   "cell_type": "code",
   "execution_count": 1,
   "metadata": {},
   "outputs": [],
   "source": [
    "import os\n",
    "import sys\n",
    "import yaml\n",
    "import time\n",
    "import pickle\n",
    "import random\n",
    "import argparse\n",
    "import feedparser\n",
    "import urllib.request\n",
    "from termcolor import colored\n",
    "from utils import Config, safe_pickle_dump\n",
    "flatten = lambda l: [item for sublist in l for item in sublist]"
   ]
  },
  {
   "cell_type": "code",
   "execution_count": 2,
   "metadata": {},
   "outputs": [],
   "source": [
    "db = pickle.load(open(Config.db_path, 'rb'))\n",
    "items = db.items()"
   ]
  },
  {
   "cell_type": "code",
   "execution_count": 3,
   "metadata": {},
   "outputs": [],
   "source": [
    "for key, value in db.items():\n",
    "    db[key][\"categories\"] = list(map(lambda x: x[\"term\"], value[\"tags\"]))"
   ]
  },
  {
   "cell_type": "code",
   "execution_count": 4,
   "metadata": {},
   "outputs": [
    {
     "data": {
      "text/plain": [
       "[{'id': 'http://arxiv.org/abs/1707.08245v3',\n",
       "  'guidislink': True,\n",
       "  'link': 'http://arxiv.org/abs/1707.08245v3',\n",
       "  'updated': '2018-07-23T17:13:23Z',\n",
       "  'updated_parsed': time.struct_time(tm_year=2018, tm_mon=7, tm_mday=23, tm_hour=17, tm_min=13, tm_sec=23, tm_wday=0, tm_yday=204, tm_isdst=0),\n",
       "  'published': '2017-07-25T23:00:44Z',\n",
       "  'published_parsed': time.struct_time(tm_year=2017, tm_mon=7, tm_mday=25, tm_hour=23, tm_min=0, tm_sec=44, tm_wday=1, tm_yday=206, tm_isdst=0),\n",
       "  'title': 'Non-commutative crepant resolutions for some toric singularities II',\n",
       "  'title_detail': {'type': 'text/plain',\n",
       "   'language': None,\n",
       "   'base': '',\n",
       "   'value': 'Non-commutative crepant resolutions for some toric singularities II'},\n",
       "  'summary': 'Using the theory of dimer models Broomhead proved that every 3-dimensional\\nGorenstein affine toric variety Spec R admits a toric non-commutative crepant\\nresolution (NCCR). We give an alternative proof of this result by constructing\\na tilting bundle on a (stacky) crepant resolution of Spec R using standard\\ntoric methods. Our proof does not use dimer models.',\n",
       "  'summary_detail': {'type': 'text/plain',\n",
       "   'language': None,\n",
       "   'base': '',\n",
       "   'value': 'Using the theory of dimer models Broomhead proved that every 3-dimensional\\nGorenstein affine toric variety Spec R admits a toric non-commutative crepant\\nresolution (NCCR). We give an alternative proof of this result by constructing\\na tilting bundle on a (stacky) crepant resolution of Spec R using standard\\ntoric methods. Our proof does not use dimer models.'},\n",
       "  'authors': [{'name': 'Špela Špenko'}, {'name': 'Michel Van den Bergh'}],\n",
       "  'author_detail': {'name': 'Michel Van den Bergh'},\n",
       "  'author': 'Michel Van den Bergh',\n",
       "  'arxiv_comment': 'Fix an undefined notation',\n",
       "  'links': [{'href': 'http://arxiv.org/abs/1707.08245v3',\n",
       "    'rel': 'alternate',\n",
       "    'type': 'text/html'},\n",
       "   {'title': 'pdf',\n",
       "    'href': 'http://arxiv.org/pdf/1707.08245v3',\n",
       "    'rel': 'related',\n",
       "    'type': 'application/pdf'}],\n",
       "  'arxiv_primary_category': {'term': 'math.AG',\n",
       "   'scheme': 'http://arxiv.org/schemas/atom'},\n",
       "  'tags': [{'term': 'math.AG',\n",
       "    'scheme': 'http://arxiv.org/schemas/atom',\n",
       "    'label': None},\n",
       "   {'term': 'math.RA',\n",
       "    'scheme': 'http://arxiv.org/schemas/atom',\n",
       "    'label': None}],\n",
       "  '_rawid': '1707.08245',\n",
       "  '_version': 3,\n",
       "  'categories': ['math.AG', 'math.RA']}]"
      ]
     },
     "execution_count": 4,
     "metadata": {},
     "output_type": "execute_result"
    }
   ],
   "source": [
    "ags = [v for k,v in db.items() if 'math.AG' in v[\"categories\"]]\n",
    "ags[0:1]"
   ]
  },
  {
   "cell_type": "code",
   "execution_count": null,
   "metadata": {},
   "outputs": [],
   "source": [
    "import pandas as pd\n",
    "s = pd.DataFrame(ags).sort_values(\"updated\",ascending=False)\n",
    "s[[\"_rawid\", \"title\", \"summary\", \"author\", \"published\", \"updated\"]].head(20)"
   ]
  },
  {
   "cell_type": "code",
   "execution_count": null,
   "metadata": {},
   "outputs": [],
   "source": [
    "s[s['title'].str.contains(\"Stratification of algebraic quotients\")][[\"title\", \"updated\"]]"
   ]
  },
  {
   "cell_type": "code",
   "execution_count": null,
   "metadata": {},
   "outputs": [],
   "source": [
    "import requests\n",
    "#!pip install pysocks\n",
    "#import pysocks\n",
    "\n",
    "session = requests.session()\n",
    "session.proxies = {\n",
    "    'http': 'socks5://localhost:9050',\n",
    "    'https': 'socks5://localhost:9050'\n",
    "}\n",
    "headers = {'User-agent': 'HotJava/1.1.2 FCS'}\n",
    "r = session.get('http://arxiv.org/pdf/1803.10495v1.pdf')\n",
    "print(r.text)\n",
    "print(r.raw)"
   ]
  },
  {
   "cell_type": "code",
   "execution_count": null,
   "metadata": {},
   "outputs": [],
   "source": []
  }
 ],
 "metadata": {
  "kernelspec": {
   "display_name": "Python 3",
   "language": "python",
   "name": "python3"
  },
  "language_info": {
   "codemirror_mode": {
    "name": "ipython",
    "version": 3
   },
   "file_extension": ".py",
   "mimetype": "text/x-python",
   "name": "python",
   "nbconvert_exporter": "python",
   "pygments_lexer": "ipython3",
   "version": "3.7.0"
  }
 },
 "nbformat": 4,
 "nbformat_minor": 2
}
