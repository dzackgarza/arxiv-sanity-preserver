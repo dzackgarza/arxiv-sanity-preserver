{
 "cells": [
  {
   "cell_type": "code",
   "execution_count": 1,
   "metadata": {},
   "outputs": [],
   "source": [
    "import os\n",
    "import sys\n",
    "import yaml\n",
    "import time\n",
    "import pickle\n",
    "import random\n",
    "import argparse\n",
    "import feedparser\n",
    "import urllib.request\n",
    "from termcolor import colored\n",
    "from utils import Config, safe_pickle_dump\n",
    "flatten = lambda l: [item for sublist in l for item in sublist]"
   ]
  },
  {
   "cell_type": "code",
   "execution_count": 14,
   "metadata": {},
   "outputs": [
    {
     "data": {
      "text/plain": [
       "'db.p'"
      ]
     },
     "execution_count": 14,
     "metadata": {},
     "output_type": "execute_result"
    }
   ],
   "source": [
    "Config.db_path"
   ]
  },
  {
   "cell_type": "code",
   "execution_count": 15,
   "metadata": {},
   "outputs": [],
   "source": [
    "db = pickle.load(open(Config.db_path, 'rb'))\n",
    "items = db.items()"
   ]
  },
  {
   "cell_type": "code",
   "execution_count": 3,
   "metadata": {},
   "outputs": [],
   "source": [
    "for key, value in db.items():\n",
    "    db[key][\"categories\"] = list(map(lambda x: x[\"term\"], value[\"tags\"]))"
   ]
  },
  {
   "cell_type": "code",
   "execution_count": 13,
   "metadata": {},
   "outputs": [],
   "source": [
    "ags = [v for k,v in db.items() if 'math.AG' in v[\"categories\"]]\n",
    "#ags[0:1]"
   ]
  },
  {
   "cell_type": "code",
   "execution_count": 21,
   "metadata": {},
   "outputs": [
    {
     "data": {
      "text/plain": [
       "['http://arxiv.org/abs/1809.00063v1']"
      ]
     },
     "execution_count": 21,
     "metadata": {},
     "output_type": "execute_result"
    }
   ],
   "source": [
    "#[a['id'] for a,b in db.items() if '1809.00063' in a['id']]\n",
    "ags = [v['id'] for k,v in db.items() if '1809.00063' in v[\"id\"]]\n",
    "ags"
   ]
  },
  {
   "cell_type": "code",
   "execution_count": null,
   "metadata": {},
   "outputs": [],
   "source": [
    "import pandas as pd\n",
    "s = pd.DataFrame(ags).sort_values(\"updated\",ascending=False)\n",
    "s[[\"_rawid\", \"title\", \"summary\", \"author\", \"published\", \"updated\"]].head(20)"
   ]
  },
  {
   "cell_type": "code",
   "execution_count": null,
   "metadata": {},
   "outputs": [],
   "source": [
    "s[s['title'].str.contains(\"Stratification of algebraic quotients\")][[\"title\", \"updated\"]]"
   ]
  },
  {
   "cell_type": "code",
   "execution_count": null,
   "metadata": {},
   "outputs": [],
   "source": [
    "import requests\n",
    "#!pip install pysocks\n",
    "#import pysocks\n",
    "\n",
    "session = requests.session()\n",
    "session.proxies = {\n",
    "    'http': 'socks5://localhost:9050',\n",
    "    'https': 'socks5://localhost:9050'\n",
    "}\n",
    "headers = {'User-agent': 'HotJava/1.1.2 FCS'}\n",
    "r = session.get('http://arxiv.org/pdf/1803.10495v1.pdf')\n",
    "print(r.text)\n",
    "print(r.raw)"
   ]
  },
  {
   "cell_type": "code",
   "execution_count": null,
   "metadata": {},
   "outputs": [],
   "source": []
  }
 ],
 "metadata": {
  "kernelspec": {
   "display_name": "Python 3",
   "language": "python",
   "name": "python3"
  },
  "language_info": {
   "codemirror_mode": {
    "name": "ipython",
    "version": 3
   },
   "file_extension": ".py",
   "mimetype": "text/x-python",
   "name": "python",
   "nbconvert_exporter": "python",
   "pygments_lexer": "ipython3",
   "version": "3.6.5"
  }
 },
 "nbformat": 4,
 "nbformat_minor": 2
}
