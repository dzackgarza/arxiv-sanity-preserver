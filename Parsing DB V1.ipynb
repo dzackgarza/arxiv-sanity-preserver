{
 "cells": [
  {
   "cell_type": "code",
   "execution_count": 1,
   "metadata": {},
   "outputs": [],
   "source": [
    "import os\n",
    "import sys\n",
    "import yaml\n",
    "import time\n",
    "import pickle\n",
    "import random\n",
    "import argparse\n",
    "import feedparser\n",
    "import urllib.request\n",
    "from termcolor import colored\n",
    "from utils import Config, safe_pickle_dump\n",
    "flatten = lambda l: [item for sublist in l for item in sublist]"
   ]
  },
  {
   "cell_type": "code",
   "execution_count": 2,
   "metadata": {},
   "outputs": [
    {
     "data": {
      "text/plain": [
       "'db.p'"
      ]
     },
     "execution_count": 2,
     "metadata": {},
     "output_type": "execute_result"
    }
   ],
   "source": [
    "Config.db_path"
   ]
  },
  {
   "cell_type": "code",
   "execution_count": 3,
   "metadata": {},
   "outputs": [],
   "source": [
    "db = pickle.load(open(Config.db_path, 'rb'))\n",
    "items = db.items()"
   ]
  },
  {
   "cell_type": "code",
   "execution_count": 3,
   "metadata": {},
   "outputs": [],
   "source": [
    "for key, value in db.items():\n",
    "    db[key][\"categories\"] = list(map(lambda x: x[\"term\"], value[\"tags\"]))"
   ]
  },
  {
   "cell_type": "code",
   "execution_count": 13,
   "metadata": {},
   "outputs": [],
   "source": [
    "ags = [v for k,v in db.items() if 'math.AG' in v[\"categories\"]]\n",
    "#ags[0:1]"
   ]
  },
  {
   "cell_type": "code",
   "execution_count": 6,
   "metadata": {
    "scrolled": true
   },
   "outputs": [
    {
     "data": {
      "text/plain": [
       "('1707.08245',\n",
       " {'_rawid': '1707.08245',\n",
       "  '_version': 3,\n",
       "  'arxiv_comment': 'Fix an undefined notation',\n",
       "  'arxiv_primary_category': {'scheme': 'http://arxiv.org/schemas/atom',\n",
       "   'term': 'math.AG'},\n",
       "  'author': 'Michel Van den Bergh',\n",
       "  'author_detail': {'name': 'Michel Van den Bergh'},\n",
       "  'authors': [{'name': 'Špela Špenko'}, {'name': 'Michel Van den Bergh'}],\n",
       "  'guidislink': True,\n",
       "  'id': 'http://arxiv.org/abs/1707.08245v3',\n",
       "  'link': 'http://arxiv.org/abs/1707.08245v3',\n",
       "  'links': [{'href': 'http://arxiv.org/abs/1707.08245v3',\n",
       "    'rel': 'alternate',\n",
       "    'type': 'text/html'},\n",
       "   {'href': 'http://arxiv.org/pdf/1707.08245v3',\n",
       "    'rel': 'related',\n",
       "    'title': 'pdf',\n",
       "    'type': 'application/pdf'}],\n",
       "  'published': '2017-07-25T23:00:44Z',\n",
       "  'published_parsed': time.struct_time(tm_year=2017, tm_mon=7, tm_mday=25, tm_hour=23, tm_min=0, tm_sec=44, tm_wday=1, tm_yday=206, tm_isdst=0),\n",
       "  'summary': 'Using the theory of dimer models Broomhead proved that every 3-dimensional\\nGorenstein affine toric variety Spec R admits a toric non-commutative crepant\\nresolution (NCCR). We give an alternative proof of this result by constructing\\na tilting bundle on a (stacky) crepant resolution of Spec R using standard\\ntoric methods. Our proof does not use dimer models.',\n",
       "  'summary_detail': {'base': '',\n",
       "   'language': None,\n",
       "   'type': 'text/plain',\n",
       "   'value': 'Using the theory of dimer models Broomhead proved that every 3-dimensional\\nGorenstein affine toric variety Spec R admits a toric non-commutative crepant\\nresolution (NCCR). We give an alternative proof of this result by constructing\\na tilting bundle on a (stacky) crepant resolution of Spec R using standard\\ntoric methods. Our proof does not use dimer models.'},\n",
       "  'tags': [{'label': None,\n",
       "    'scheme': 'http://arxiv.org/schemas/atom',\n",
       "    'term': 'math.AG'},\n",
       "   {'label': None,\n",
       "    'scheme': 'http://arxiv.org/schemas/atom',\n",
       "    'term': 'math.RA'}],\n",
       "  'title': 'Non-commutative crepant resolutions for some toric singularities II',\n",
       "  'title_detail': {'base': '',\n",
       "   'language': None,\n",
       "   'type': 'text/plain',\n",
       "   'value': 'Non-commutative crepant resolutions for some toric singularities II'},\n",
       "  'updated': '2018-07-23T17:13:23Z',\n",
       "  'updated_parsed': time.struct_time(tm_year=2018, tm_mon=7, tm_mday=23, tm_hour=17, tm_min=13, tm_sec=23, tm_wday=0, tm_yday=204, tm_isdst=0)})"
      ]
     },
     "execution_count": 6,
     "metadata": {},
     "output_type": "execute_result"
    }
   ],
   "source": [
    "list(db.items())[1]"
   ]
  },
  {
   "cell_type": "code",
   "execution_count": 5,
   "metadata": {},
   "outputs": [
    {
     "data": {
      "text/plain": [
       "['http://arxiv.org/abs/1809.06818v1']"
      ]
     },
     "execution_count": 5,
     "metadata": {},
     "output_type": "execute_result"
    }
   ],
   "source": [
    "#[a['id'] for a,b in db.items() if '1809.00063' in a['id']]\n",
    "ags = [v['id'] for k,v in db.items() if '1809.06818' in v[\"id\"]]\n",
    "ags"
   ]
  },
  {
   "cell_type": "code",
   "execution_count": 7,
   "metadata": {},
   "outputs": [
    {
     "data": {
      "text/plain": [
       "{'_rawid': '1809.06818',\n",
       " '_version': 1,\n",
       " 'arxiv_comment': '29 pages. Comments more than welcome',\n",
       " 'arxiv_primary_category': {'scheme': 'http://arxiv.org/schemas/atom',\n",
       "  'term': 'math.AG'},\n",
       " 'author': 'Ariyan Javanpeykar',\n",
       " 'author_detail': {'name': 'Ariyan Javanpeykar'},\n",
       " 'authors': [{'name': 'Ariyan Javanpeykar'}],\n",
       " 'guidislink': True,\n",
       " 'id': 'http://arxiv.org/abs/1809.06818v1',\n",
       " 'link': 'http://arxiv.org/abs/1809.06818v1',\n",
       " 'links': [{'href': 'http://arxiv.org/abs/1809.06818v1',\n",
       "   'rel': 'alternate',\n",
       "   'type': 'text/html'},\n",
       "  {'href': 'http://arxiv.org/pdf/1809.06818v1',\n",
       "   'rel': 'related',\n",
       "   'title': 'pdf',\n",
       "   'type': 'application/pdf'}],\n",
       " 'published': '2018-09-18T16:25:49Z',\n",
       " 'published_parsed': time.struct_time(tm_year=2018, tm_mon=9, tm_mday=18, tm_hour=16, tm_min=25, tm_sec=49, tm_wday=1, tm_yday=261, tm_isdst=0),\n",
       " 'summary': 'We verify some \"arithmetic\" predictions made by conjectures of Campana,\\nHassett-Tschinkel, Green-Griffiths, Lang, and Vojta. Firstly, we prove that\\nevery dominant endomorphism of an arithmetically hyperbolic variety over an\\nalgebraically closed field of characteristic zero is in fact an automorphism of\\nfinite order, and that the automorphism group of an arithmetically hyperbolic\\nvariety is a locally finite group. To prove these two statements we use (a mild\\ngeneralization of) a theorem of Amerik on dynamical systems which in turn\\nbuilds on work of Bell-Ghioca-Tucker, and combine this with a classical result\\nof Bass-Lubotzky. Furthermore, we show that if the automorphism group of a\\nprojective variety is torsion, then it is finite. In particular, we obtain that\\nthe automorphism group of a projective arithmetically hyperbolic variety is\\nfinite, as predicted by Lang\\'s conjectures. Next, we apply this result to\\nverify that projective hyperkahler varieties with Picard rank at least three\\nare not arithmetically hyperbolic. Finally, we show that arithmetic\\nhyperbolicity is a \"geometric\" notion, as predicted by Green-Griffiths-Lang\\'s\\nconjecture, under suitable assumptions related to Demailly\\'s notion of\\nalgebraic hyperbolicity. For instance, if $k\\\\subset \\\\mathbb{C}$ is an\\nalgebraically closed subfield and $X$ is an arithmetically hyperbolic variety\\nover $k$ such that $X_{\\\\mathbb{C}}$ is Brody hyperbolic, then $X$ remains\\narithmetically hyperbolic after any field extension of $k$.',\n",
       " 'summary_detail': {'base': '',\n",
       "  'language': None,\n",
       "  'type': 'text/plain',\n",
       "  'value': 'We verify some \"arithmetic\" predictions made by conjectures of Campana,\\nHassett-Tschinkel, Green-Griffiths, Lang, and Vojta. Firstly, we prove that\\nevery dominant endomorphism of an arithmetically hyperbolic variety over an\\nalgebraically closed field of characteristic zero is in fact an automorphism of\\nfinite order, and that the automorphism group of an arithmetically hyperbolic\\nvariety is a locally finite group. To prove these two statements we use (a mild\\ngeneralization of) a theorem of Amerik on dynamical systems which in turn\\nbuilds on work of Bell-Ghioca-Tucker, and combine this with a classical result\\nof Bass-Lubotzky. Furthermore, we show that if the automorphism group of a\\nprojective variety is torsion, then it is finite. In particular, we obtain that\\nthe automorphism group of a projective arithmetically hyperbolic variety is\\nfinite, as predicted by Lang\\'s conjectures. Next, we apply this result to\\nverify that projective hyperkahler varieties with Picard rank at least three\\nare not arithmetically hyperbolic. Finally, we show that arithmetic\\nhyperbolicity is a \"geometric\" notion, as predicted by Green-Griffiths-Lang\\'s\\nconjecture, under suitable assumptions related to Demailly\\'s notion of\\nalgebraic hyperbolicity. For instance, if $k\\\\subset \\\\mathbb{C}$ is an\\nalgebraically closed subfield and $X$ is an arithmetically hyperbolic variety\\nover $k$ such that $X_{\\\\mathbb{C}}$ is Brody hyperbolic, then $X$ remains\\narithmetically hyperbolic after any field extension of $k$.'},\n",
       " 'tags': [{'label': None,\n",
       "   'scheme': 'http://arxiv.org/schemas/atom',\n",
       "   'term': 'math.AG'},\n",
       "  {'label': None,\n",
       "   'scheme': 'http://arxiv.org/schemas/atom',\n",
       "   'term': 'math.NT'}],\n",
       " 'title': 'Arithmetic hyperbolicity: endomorphisms, automorphisms, hyperkahler\\n  varieties, geometricity',\n",
       " 'title_detail': {'base': '',\n",
       "  'language': None,\n",
       "  'type': 'text/plain',\n",
       "  'value': 'Arithmetic hyperbolicity: endomorphisms, automorphisms, hyperkahler\\n  varieties, geometricity'},\n",
       " 'updated': '2018-09-18T16:25:49Z',\n",
       " 'updated_parsed': time.struct_time(tm_year=2018, tm_mon=9, tm_mday=18, tm_hour=16, tm_min=25, tm_sec=49, tm_wday=1, tm_yday=261, tm_isdst=0)}"
      ]
     },
     "execution_count": 7,
     "metadata": {},
     "output_type": "execute_result"
    }
   ],
   "source": [
    "db['1809.06818']"
   ]
  },
  {
   "cell_type": "code",
   "execution_count": null,
   "metadata": {},
   "outputs": [],
   "source": [
    "import pandas as pd\n",
    "s = pd.DataFrame(ags).sort_values(\"updated\",ascending=False)\n",
    "s[[\"_rawid\", \"title\", \"summary\", \"author\", \"published\", \"updated\"]].head(20)"
   ]
  },
  {
   "cell_type": "code",
   "execution_count": null,
   "metadata": {},
   "outputs": [],
   "source": [
    "s[s['title'].str.contains(\"Stratification of algebraic quotients\")][[\"title\", \"updated\"]]"
   ]
  },
  {
   "cell_type": "code",
   "execution_count": null,
   "metadata": {},
   "outputs": [],
   "source": [
    "import requests\n",
    "#!pip install pysocks\n",
    "#import pysocks\n",
    "\n",
    "session = requests.session()\n",
    "session.proxies = {\n",
    "    'http': 'socks5://localhost:9050',\n",
    "    'https': 'socks5://localhost:9050'\n",
    "}\n",
    "headers = {'User-agent': 'HotJava/1.1.2 FCS'}\n",
    "r = session.get('http://arxiv.org/pdf/1803.10495v1.pdf')\n",
    "print(r.text)\n",
    "print(r.raw)"
   ]
  },
  {
   "cell_type": "code",
   "execution_count": null,
   "metadata": {},
   "outputs": [],
   "source": []
  }
 ],
 "metadata": {
  "kernelspec": {
   "display_name": "Python 3",
   "language": "python",
   "name": "python3"
  },
  "language_info": {
   "codemirror_mode": {
    "name": "ipython",
    "version": 3
   },
   "file_extension": ".py",
   "mimetype": "text/x-python",
   "name": "python",
   "nbconvert_exporter": "python",
   "pygments_lexer": "ipython3",
   "version": "3.6.5"
  }
 },
 "nbformat": 4,
 "nbformat_minor": 2
}
