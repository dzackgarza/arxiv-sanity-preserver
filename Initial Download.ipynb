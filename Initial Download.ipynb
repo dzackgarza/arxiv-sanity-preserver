{
 "cells": [
  {
   "cell_type": "code",
   "execution_count": null,
   "metadata": {},
   "outputs": [],
   "source": [
    "import os\n",
    "import time\n",
    "import pickle\n",
    "import shutil\n",
    "import random\n",
    "import urllib\n",
    "import requests\n",
    "import concurrent.futures\n",
    "from  urllib.request import urlopen\n",
    "from termcolor import colored\n",
    "from utils import Config, safe_pickle_dump\n",
    "\n",
    "printgreen = lambda q: print(colored(q, 'green'))\n",
    "printred = lambda q: print(colored(q, 'red'))\n",
    "\n",
    "session = requests.session()\n",
    "session.proxies = {\n",
    "    'http': 'socks5://localhost:9050',\n",
    "    'https': 'socks5://localhost:9050'\n",
    "}\n",
    "headers = {'User-agent': 'HotJava/1.1.2 FCS'}"
   ]
  },
  {
   "cell_type": "code",
   "execution_count": null,
   "metadata": {},
   "outputs": [],
   "source": [
    "req = session.get('https://api.ipify.org', timeout = 15)\n",
    "req.content\n",
    "#with open(fname, 'wb') as fp:\n",
    "#shutil.copyfileobj(req.raw, fp)"
   ]
  },
  {
   "cell_type": "code",
   "execution_count": null,
   "metadata": {},
   "outputs": [],
   "source": [
    "db = pickle.load(open(Config.db_path, 'rb'))"
   ]
  },
  {
   "cell_type": "code",
   "execution_count": null,
   "metadata": {},
   "outputs": [],
   "source": [
    "have = set(os.listdir(Config.pdf_dir))"
   ]
  },
  {
   "cell_type": "code",
   "execution_count": null,
   "metadata": {},
   "outputs": [],
   "source": [
    "print(len(db))\n",
    "print(len(have))\n",
    "\n",
    "print(len(db) - len(have))"
   ]
  },
  {
   "cell_type": "code",
   "execution_count": null,
   "metadata": {},
   "outputs": [],
   "source": [
    "have = set(os.listdir(Config.pdf_dir))\n",
    "\n",
    "def refreshNeeded():\n",
    "    entries = []\n",
    "    for db_key, j in db.items():\n",
    "        pdfs = [x['href'] for x in j['links'] if x['type'] == 'application/pdf']\n",
    "        assert len(pdfs) == 1\n",
    "        if ('ishtml' in db[db_key] and db[db_key]['ishtml'] == True):\n",
    "            #print(db_key)\n",
    "            continue\n",
    "        pdf_url = pdfs[0] + '.pdf'\n",
    "        basename = pdf_url.split('/')[-1]\n",
    "        fname = os.path.join(Config.pdf_dir, basename)\n",
    "        if not basename in have:\n",
    "            entries.append({\n",
    "                'key': db_key, \n",
    "                'url': pdf_url, \n",
    "                'basename': basename, \n",
    "                'filename': fname\n",
    "            })\n",
    "    return entries\n",
    "\n",
    "newEntries = refreshNeeded()\n",
    "\n",
    "print(len(newEntries))"
   ]
  },
  {
   "cell_type": "code",
   "execution_count": null,
   "metadata": {},
   "outputs": [],
   "source": [
    "print(newEntries[0])\n",
    "print(list(have)[0] if len(list(have)) !=0 else \"0\")"
   ]
  },
  {
   "cell_type": "code",
   "execution_count": null,
   "metadata": {},
   "outputs": [],
   "source": [
    "def load_url(pdf_url):\n",
    "    return session.get(pdf_url, timeout = 30)\n",
    "\n",
    "def reqToFile(db_key, basename, filename, req):\n",
    "    if (req.ok and req.headers['Content-Type'] == 'application/pdf'):\n",
    "        with open(filename, 'wb') as f:\n",
    "            f.write(req.content)\n",
    "        print(\".\", end='', flush=True)\n",
    "    elif ('text/html' in req.headers['Content-Type']):\n",
    "        db[db_key]['ishtml'] = True\n",
    "        raise ValueError(f\"{db_key}: was HTML instead of PDF\")\n",
    "    else:\n",
    "        raise Exception(f\"{db_key}: Unknown error\")"
   ]
  },
  {
   "cell_type": "code",
   "execution_count": null,
   "metadata": {
    "scrolled": false
   },
   "outputs": [],
   "source": [
    "have = set(os.listdir(Config.pdf_dir))\n",
    "newEntries = refreshNeeded()\n",
    "\n",
    "with concurrent.futures.ThreadPoolExecutor(max_workers=40) as executor:\n",
    "    \n",
    "    future_to_url = { executor.submit(load_url, entry['url']): entry for entry in newEntries }\n",
    "    \n",
    "    for future in concurrent.futures.as_completed(future_to_url):\n",
    "        try:\n",
    "            this_entry = future_to_url[future]\n",
    "            req = future.result()\n",
    "            reqToFile(this_entry['key'], this_entry['basename'], this_entry['filename'], req)\n",
    "        except Exception as e:\n",
    "            print('')\n",
    "            print(e)\n",
    "            print('')\n",
    "safe_pickle_dump(db, Config.db_path)\n",
    "print(\"Done\")"
   ]
  },
  {
   "cell_type": "code",
   "execution_count": null,
   "metadata": {},
   "outputs": [],
   "source": [
    "\n"
   ]
  },
  {
   "cell_type": "code",
   "execution_count": null,
   "metadata": {},
   "outputs": [],
   "source": []
  }
 ],
 "metadata": {
  "kernelspec": {
   "display_name": "Python 3",
   "language": "python",
   "name": "python3"
  },
  "language_info": {
   "codemirror_mode": {
    "name": "ipython",
    "version": 3
   },
   "file_extension": ".py",
   "mimetype": "text/x-python",
   "name": "python",
   "nbconvert_exporter": "python",
   "pygments_lexer": "ipython3",
   "version": "3.6.5"
  }
 },
 "nbformat": 4,
 "nbformat_minor": 2
}
